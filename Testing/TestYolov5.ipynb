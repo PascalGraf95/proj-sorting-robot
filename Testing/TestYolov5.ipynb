{
 "cells": [
  {
   "cell_type": "markdown",
   "source": [],
   "metadata": {
    "collapsed": false
   },
   "id": "de9b9a8e2173994f"
  },
  {
   "cell_type": "markdown",
   "id": "efe4467b-c886-4b53-b690-b9ba9771f3ae",
   "metadata": {},
   "source": [
    "# YoloV5 Test\n",
    "## Generate Image Dataset\n",
    "### Imports"
   ]
  },
  {
   "cell_type": "code",
   "execution_count": 5,
   "id": "ddccc9e0-5869-42cc-b21b-547a13f415a9",
   "metadata": {
    "ExecuteTime": {
     "end_time": "2023-12-17T17:20:50.750290100Z",
     "start_time": "2023-12-17T17:20:50.745284700Z"
    }
   },
   "outputs": [],
   "source": [
    "import cv2\n",
    "import torch\n",
    "import os\n",
    "import numpy as np\n",
    "from modules import image_processing as ip"
   ]
  },
  {
   "cell_type": "markdown",
   "id": "4ef1b4e9-e37e-4fe4-9819-59f08b1d9a38",
   "metadata": {},
   "source": [
    "### Variable Settings"
   ]
  },
  {
   "cell_type": "code",
   "execution_count": 6,
   "id": "3673ab9e-06fa-451e-9f59-43da59a80fe5",
   "metadata": {
    "ExecuteTime": {
     "end_time": "2023-12-17T17:20:51.690864800Z",
     "start_time": "2023-12-17T17:20:51.683860700Z"
    }
   },
   "outputs": [],
   "source": [
    "img_size= 240\n",
    "\n",
    "img_folder_path = 'C:\\\\Users\\\\doett\\\\Documents\\\\Workspace\\\\GitHub\\\\proj-sorting-robot\\\\Testing\\\\YoloObjektDetection\\\\Images\\\\Dataset\\\\Srews_Nuts_Washers_Overlaps'\n",
    "image_name = '1.jpg'\n",
    "image_path = img_folder_path + '\\\\' + image_name\n",
    "\n",
    "model_weights_path = 'C:\\\\Users\\\\doett\\\\Documents\\\\Workspace\\\\GitHub\\\\proj-sorting-robot\\\\Testing\\\\yolov5_temp\\\\runs\\\\train\\\\Big\\\\weights\\\\best.pt'\n",
    "\n",
    "labels = ['OverlapingObjects', 'Nut', 'Screw', 'Washer']"
   ]
  },
  {
   "cell_type": "markdown",
   "id": "854872fc6be33115",
   "metadata": {
    "collapsed": false
   },
   "source": [
    "### Load YoloV5-Model pretrained with own data"
   ]
  },
  {
   "cell_type": "code",
   "execution_count": 7,
   "id": "de083a3ff9e1f43",
   "metadata": {
    "collapsed": false,
    "ExecuteTime": {
     "end_time": "2023-12-17T17:20:57.059059500Z",
     "start_time": "2023-12-17T17:20:52.433315300Z"
    }
   },
   "outputs": [
    {
     "name": "stdout",
     "output_type": "stream",
     "text": [
      "C:\\Users\\doett\\Documents\\Workspace\\GitHub\\proj-sorting-robot\\Testing\\yolov5_temp\\runs\\train\\Big\\weights\\best.pt\n"
     ]
    },
    {
     "name": "stderr",
     "output_type": "stream",
     "text": [
      "Using cache found in C:\\Users\\doett/.cache\\torch\\hub\\ultralytics_yolov5_master\n",
      "YOLOv5  2023-12-17 Python-3.11.5 torch-2.1.2+cpu CPU\n",
      "\n",
      "Fusing layers... \n",
      "Model summary: 322 layers, 86193601 parameters, 0 gradients, 203.8 GFLOPs\n",
      "Adding AutoShape... \n"
     ]
    }
   ],
   "source": [
    "def load_model(path):\n",
    "    # Lade das trainierte Modell\n",
    "    print(path)\n",
    "    #model = torch.load(model_weights_path, map_location='cpu')\n",
    "    model = torch.hub.load('ultralytics/yolov5', 'custom', path=path)\n",
    "    return model\n",
    "\n",
    "\n",
    "model = load_model(path=model_weights_path)"
   ]
  },
  {
   "cell_type": "markdown",
   "id": "6405023a8767913e",
   "metadata": {
    "collapsed": false
   },
   "source": [
    "### Load Images"
   ]
  },
  {
   "cell_type": "code",
   "execution_count": 125,
   "id": "6db708fe6aaa02a7",
   "metadata": {
    "collapsed": false,
    "ExecuteTime": {
     "end_time": "2023-12-17T18:54:18.764413600Z",
     "start_time": "2023-12-17T18:54:17.883073800Z"
    }
   },
   "outputs": [],
   "source": [
    "image_path =  'C:\\\\Users\\\\doett\\\\Documents\\\\Workspace\\\\GitHub\\\\proj-sorting-robot\\\\Testing\\\\YoloObjektDetection\\\\Images\\\\Dataset\\\\Srews_Nuts_Washers_Overlaps\\\\1.jpg'\n",
    "\n",
    "image = cv2.imread(image_path)\n",
    "\n",
    "# Überprüfen, ob das Bild erfolgreich geladen wurde\n",
    "if image is not None:\n",
    "    cv2.imshow('Image', image)\n",
    "    cv2.waitKey(0)\n",
    "    cv2.destroyAllWindows()\n",
    "else:\n",
    "    print(\"[WARNING] No image loaded\")\n",
    "    "
   ]
  },
  {
   "cell_type": "markdown",
   "id": "56b1a202-f729-440f-aa37-5e1d79544859",
   "metadata": {
    "jp-MarkdownHeadingCollapsed": true
   },
   "source": [
    "### Load more files of one Folder"
   ]
  },
  {
   "cell_type": "code",
   "execution_count": 123,
   "id": "b71d380f-b04f-4e5c-96d4-e62f563d8835",
   "metadata": {
    "scrolled": true,
    "ExecuteTime": {
     "end_time": "2023-12-17T18:54:08.129116200Z",
     "start_time": "2023-12-17T18:54:06.389493100Z"
    }
   },
   "outputs": [
    {
     "name": "stdout",
     "output_type": "stream",
     "text": [
      "Unable to load 1.json\n",
      "Unable to load 10.json\n",
      "Unable to load 11.json\n",
      "Unable to load 12.json\n",
      "Unable to load 13.json\n",
      "Unable to load 14.json\n",
      "Unable to load 15.json\n",
      "Unable to load 16.json\n",
      "Unable to load 17.json\n",
      "Unable to load 18.json\n",
      "Unable to load 19.json\n",
      "Unable to load 2.json\n",
      "Unable to load 20.json\n",
      "Unable to load 21.json\n",
      "Unable to load 22.json\n",
      "Unable to load 23.json\n",
      "Unable to load 24.json\n",
      "Unable to load 25.json\n",
      "Unable to load 26.json\n",
      "Unable to load 27.json\n",
      "Unable to load 28.json\n",
      "Unable to load 29.json\n",
      "Unable to load 3.json\n",
      "Unable to load 30.json\n",
      "Unable to load 31.json\n",
      "Unable to load 32.json\n",
      "Unable to load 33.json\n",
      "Unable to load 34.json\n",
      "Unable to load 35.json\n",
      "Unable to load 36.json\n",
      "Unable to load 37.json\n",
      "Unable to load 38.json\n",
      "Unable to load 39.json\n",
      "Unable to load 4.json\n",
      "Unable to load 40.json\n",
      "Unable to load 41.json\n",
      "Unable to load 42.json\n",
      "Unable to load 43.json\n",
      "Unable to load 44.json\n",
      "Unable to load 45.json\n",
      "Unable to load 46.json\n",
      "Unable to load 47.json\n",
      "Unable to load 48.json\n",
      "Unable to load 49.json\n",
      "Unable to load 5.json\n",
      "Unable to load 50.json\n",
      "Unable to load 6.json\n",
      "Unable to load 7.json\n",
      "Unable to load 8.json\n",
      "Unable to load 9.json\n"
     ]
    }
   ],
   "source": [
    "img_folder_path = 'C:\\\\Users\\\\doett\\\\Documents\\\\Workspace\\\\GitHub\\\\proj-sorting-robot\\\\Testing\\\\YoloObjektDetection\\\\Images\\\\Dataset\\\\Srews_Nuts_Washers_Overlaps'\n",
    "img_array = []\n",
    "# Überprüfen, ob der Ordner existiert\n",
    "if os.path.isdir(img_folder_path):\n",
    "    # Durchlaufe alle Dateien im Ordner\n",
    "    for filename in os.listdir(img_folder_path):\n",
    "        # Pfade für jedes Object erstellen\n",
    "        image_path = os.path.join(img_folder_path, filename)\n",
    "\n",
    "        # Überprüfen, ob es sich um eine Datei handelt\n",
    "        if os.path.isfile(image_path):\n",
    "            # Load Image\n",
    "            image = cv2.imread(image_path)\n",
    "\n",
    "            # Überprüfen, ob das Bild erfolgreich geladen wurde\n",
    "            if image is not None:\n",
    "                img_array.append((image, filename))\n",
    "                cv2.imshow('Image', image)\n",
    "            else:\n",
    "                print(f\"Unable to load {filename}\")\n",
    "        else:\n",
    "            print(f\"No File: {filename} \")\n",
    "else:\n",
    "    print(\"Path don't exists\")\n",
    "\n",
    "cv2.waitKey(0)\n",
    "cv2.destroyAllWindows()"
   ]
  },
  {
   "cell_type": "markdown",
   "id": "35992c35-234f-4b7a-aa55-f6e8b99fda58",
   "metadata": {
    "jp-MarkdownHeadingCollapsed": true
   },
   "source": []
  },
  {
   "cell_type": "code",
   "execution_count": 10,
   "id": "af8d0dc9-fe2d-4439-8554-80fe24612467",
   "metadata": {
    "ExecuteTime": {
     "end_time": "2023-12-17T17:21:11.378659900Z",
     "start_time": "2023-12-17T17:21:09.365564Z"
    }
   },
   "outputs": [
    {
     "name": "stdout",
     "output_type": "stream",
     "text": [
      "1.jpg\n",
      "[[[18 20  8]\n",
      "  [19 21  9]\n",
      "  [22 22 10]\n",
      "  ...\n",
      "  [58 37 10]\n",
      "  [52 26  9]\n",
      "  [45 19  3]]\n",
      "\n",
      " [[18 20  8]\n",
      "  [19 21  9]\n",
      "  [22 22 10]\n",
      "  ...\n",
      "  [58 37 10]\n",
      "  [52 26  9]\n",
      "  [45 19  3]]\n",
      "\n",
      " [[18 20  8]\n",
      "  [19 21  9]\n",
      "  [22 22 10]\n",
      "  ...\n",
      "  [58 37 10]\n",
      "  [52 26  9]\n",
      "  [45 19  3]]\n",
      "\n",
      " ...\n",
      "\n",
      " [[15  8 11]\n",
      "  [16  9 12]\n",
      "  [17 10 13]\n",
      "  ...\n",
      "  [ 5 13 12]\n",
      "  [ 5 13 12]\n",
      "  [ 3 14 12]]\n",
      "\n",
      " [[13  6 11]\n",
      "  [14  7 12]\n",
      "  [16  9 14]\n",
      "  ...\n",
      "  [ 6 14 13]\n",
      "  [ 3 14 12]\n",
      "  [ 1 14 12]]\n",
      "\n",
      " [[14  7 12]\n",
      "  [15  8 13]\n",
      "  [17 10 15]\n",
      "  ...\n",
      "  [ 5 16 14]\n",
      "  [ 4 15 13]\n",
      "  [ 1 14 12]]]\n"
     ]
    }
   ],
   "source": [
    "imageNr = 0\n",
    "\n",
    "def get_image(imagenr):\n",
    "    return img_array[imagenr][0]\n",
    "\n",
    "def get_image_name(imagenr):\n",
    "    return img_array[imagenr][1]\n",
    "\n",
    "print(get_image_name(imageNr))\n",
    "print(get_image(imageNr))\n",
    "\n",
    "cv2.imshow('{}'.format(get_image_name(imageNr)), get_image(imageNr))\n",
    "cv2.waitKey(0)\n",
    "cv2.destroyAllWindows()\n"
   ]
  },
  {
   "cell_type": "markdown",
   "id": "cbdd1555b775b13d",
   "metadata": {
    "collapsed": false
   },
   "source": [
    "### Predict Results"
   ]
  },
  {
   "cell_type": "code",
   "execution_count": 151,
   "outputs": [
    {
     "name": "stderr",
     "output_type": "stream",
     "text": [
      "C:\\Users\\doett\\AppData\\Local\\Temp\\ipykernel_20176\\4140732433.py:32: DeprecationWarning: `np.int0` is a deprecated alias for `np.intp`.  (Deprecated NumPy 1.24)\n",
      "  box_points = np.int0(box_points)\n"
     ]
    }
   ],
   "source": [
    "image = cv2.imread(image_path)\n",
    "image = image[175:950, 0:1700]\n",
    "output = image.copy()\n",
    "results = model(image)\n",
    "\n",
    "cropped_boxes = []  # Liste für ausgeschnittene Boxen\n",
    "con_array = []\n",
    "\n",
    "for box in results.xyxy[0].cpu().numpy():\n",
    "    box = [float(i) for i in box]\n",
    "    xmin, ymin, xmax, ymax, conf, cls = box\n",
    "    \n",
    "    region = image[int(ymin):int(ymax), int(xmin):int(xmax)]\n",
    "    cvt = cv2.cvtColor(region, cv2.COLOR_BGR2GRAY)\n",
    "    blur = cv2.medianBlur(cvt, 13)\n",
    "    \n",
    "    _, otsu_thresh = cv2.threshold(blur, 0, 255, cv2.THRESH_OTSU)\n",
    "\n",
    "    contours, _ = cv2.findContours(otsu_thresh, cv2.RETR_EXTERNAL, cv2.CHAIN_APPROX_SIMPLE)\n",
    "    \n",
    "    # Sortiere Konturen nach Fläche\n",
    "    contours = sorted(contours, key=cv2.contourArea, reverse=True)\n",
    "    \n",
    "    # Nutze nur die größte Kontur\n",
    "    if contours:\n",
    "        contour = contours[0]\n",
    "        con_array.append(contour)\n",
    "        \n",
    "        # Berechne das rotierte Rechteck\n",
    "        rect = cv2.minAreaRect(contour)\n",
    "        box_points = cv2.boxPoints(rect)\n",
    "        box_points = np.int0(box_points)\n",
    "        \n",
    "        # Offset basierend auf den Box-Koordinaten\n",
    "        box_points[:, 0] += int(xmin)\n",
    "        box_points[:, 1] += int(ymin)\n",
    "        cv2.drawContours(output, [box_points], 0, (0, 0, 255), 2)\n",
    "        \n",
    "    output = cv2.rectangle(output, (int(xmin), int(ymin)), (int(xmax), int(ymax)), (0, 255, 0), 2)\n",
    "    output = cv2.putText(output, labels[int(cls)], (int(xmin), int(ymin) - 5), cv2.FONT_HERSHEY_SIMPLEX, 0.5,\n",
    "                         (0, 255, 0), 1, cv2.LINE_AA)    \n",
    "    \n",
    "rectangles = ip.get_rects_from_contours(con_array)\n",
    "bounding_boxes = ip.get_bounding_boxes_from_rectangles(rectangles)\n",
    "object_images = ip.warp_objects_horizontal(image, rectangles, bounding_boxes)\n",
    "cv2.imshow('test',object_images[1])\n",
    "\n",
    "cropped_boxes.append( ip.standardize_images(object_images))\n",
    "black_BG = cropped_boxes\n",
    "\n",
    "for i, image in enumerate(black_BG):\n",
    "    path = 'C:\\\\Users\\\\doett\\\\Documents\\\\Workspace\\\\GitHub\\\\proj-sorting-robot\\\\Testing\\\\Scanned Data\\\\Part{}.png'.format(i)\n",
    "    cv2.imwrite(path, image)\n",
    "    \n",
    "cv2.imshow(\"Predicted Objects\", output)\n",
    "cv2.waitKey(0)\n",
    "cv2.destroyAllWindows()"
   ],
   "metadata": {
    "collapsed": false,
    "ExecuteTime": {
     "end_time": "2023-12-17T19:29:50.911159200Z",
     "start_time": "2023-12-17T19:29:46.503178700Z"
    }
   },
   "id": "f6633dbcc4ad8e08"
  },
  {
   "cell_type": "code",
   "execution_count": 126,
   "id": "c10aa8779c44ee13",
   "metadata": {
    "collapsed": false,
    "ExecuteTime": {
     "end_time": "2023-12-17T18:54:41.406999700Z",
     "start_time": "2023-12-17T18:54:27.201492900Z"
    }
   },
   "outputs": [
    {
     "name": "stderr",
     "output_type": "stream",
     "text": [
      "C:\\Users\\doett\\AppData\\Local\\Temp\\ipykernel_20176\\2006893766.py:31: DeprecationWarning: `np.int0` is a deprecated alias for `np.intp`.  (Deprecated NumPy 1.24)\n",
      "  box_points = np.int0(box_points)\n"
     ]
    }
   ],
   "source": [
    "image = cv2.imread(image_path)\n",
    "image = image[175:950, 0:1700]\n",
    "output = image.copy()\n",
    "results = model(image)\n",
    "\n",
    "cropped_boxes = []  # Liste für ausgeschnittene Boxen\n",
    "\n",
    "for box in results.xyxy[0].cpu().numpy():\n",
    "    box = [float(i) for i in box]\n",
    "    xmin, ymin, xmax, ymax, conf, cls = box\n",
    "    \n",
    "    region = image[int(ymin):int(ymax), int(xmin):int(xmax)]\n",
    "    cvt = cv2.cvtColor(region, cv2.COLOR_BGR2GRAY)\n",
    "    blur = cv2.medianBlur(cvt, 13)\n",
    "    \n",
    "    _, otsu_thresh = cv2.threshold(blur, 0, 255, cv2.THRESH_OTSU)\n",
    "\n",
    "    contours, _ = cv2.findContours(otsu_thresh, cv2.RETR_EXTERNAL, cv2.CHAIN_APPROX_SIMPLE)\n",
    "    con_array = []\n",
    "    \n",
    "    # Sortiere Konturen nach Fläche\n",
    "    contours = sorted(contours, key=cv2.contourArea, reverse=True)\n",
    "    \n",
    "    # Nutze nur die größte Kontur\n",
    "    if contours:\n",
    "        contour = contours[0]\n",
    "        \n",
    "        # Berechne das rotierte Rechteck\n",
    "        rect = cv2.minAreaRect(contour)\n",
    "        box_points = cv2.boxPoints(rect)\n",
    "        box_points = np.int0(box_points)\n",
    "        \n",
    "        # Offset basierend auf den Box-Koordinaten\n",
    "        box_points[:, 0] += int(xmin)\n",
    "        box_points[:, 1] += int(ymin)\n",
    "        cv2.drawContours(output, [box_points], 0, (0, 0, 255), 2)\n",
    "        \n",
    "        # Berechne die Rotationsmatrix\n",
    "        center = (xmin + (xmax - xmin) / 2, ymin + (ymax - ymin) / 2)\n",
    "        M = cv2.getRotationMatrix2D(center, rect[2], 1.0)\n",
    "        \n",
    "        # Rotiere das Bild\n",
    "        rotated = cv2.warpAffine(image, M, (image.shape[1], image.shape[0]))\n",
    "        \n",
    "        # Berechne die Bounding Box um die Rotated Bounding Box\n",
    "        x, y, w, h = cv2.boundingRect(box_points)\n",
    "        \n",
    "        # Ausschneiden und Speichern des Bereichs\n",
    "        cropped_box = rotated[y:y+h, x:x+w]\n",
    "        \n",
    "        if h > w:\n",
    "            cropped_box = cv2.rotate(cropped_box, cv2.ROTATE_90_CLOCKWISE)\n",
    "            cropped_boxes.append(cropped_box)\n",
    "            \n",
    "        else:\n",
    "            cropped_boxes.append(cropped_box)\n",
    "        \n",
    "    output = cv2.rectangle(output, (int(xmin), int(ymin)), (int(xmax), int(ymax)), (0, 255, 0), 2)\n",
    "    output = cv2.putText(output, labels[int(cls)], (int(xmin), int(ymin) - 5), cv2.FONT_HERSHEY_SIMPLEX, 0.5,\n",
    "                         (0, 255, 0), 1, cv2.LINE_AA)    \n",
    "\n",
    "black_BG = ip.standardize_images(cropped_boxes)\n",
    "\n",
    "for i, image in enumerate(black_BG):\n",
    "    path = 'C:\\\\Users\\\\doett\\\\Documents\\\\Workspace\\\\GitHub\\\\proj-sorting-robot\\\\Testing\\\\Scanned Data\\\\Part{}.png'.format(i)\n",
    "    cv2.imwrite(path, image)\n",
    "    \n",
    "cv2.imshow(\"Predicted Objects\", output)\n",
    "cv2.waitKey(0)\n",
    "cv2.destroyAllWindows()\n",
    "\n"
   ]
  },
  {
   "cell_type": "code",
   "execution_count": 117,
   "outputs": [],
   "source": [
    "image = cv2.imread(image_path)\n",
    "output = image.copy()\n",
    "results = model(image)\n"
   ],
   "metadata": {
    "collapsed": false,
    "ExecuteTime": {
     "end_time": "2023-12-17T18:43:17.050018800Z",
     "start_time": "2023-12-17T18:43:16.383622500Z"
    }
   },
   "id": "2c7cf3c1f314361d"
  },
  {
   "cell_type": "markdown",
   "source": [
    "# Extract Conventional"
   ],
   "metadata": {
    "collapsed": false
   },
   "id": "20df08e1f40444e4"
  },
  {
   "cell_type": "code",
   "execution_count": 2,
   "outputs": [],
   "source": [
    "DataFolderPath = 'Testing/Scanned Data'"
   ],
   "metadata": {
    "collapsed": false,
    "ExecuteTime": {
     "end_time": "2023-12-17T17:01:10.653362800Z",
     "start_time": "2023-12-17T17:01:10.645336500Z"
    }
   },
   "id": "f132829b75a55536"
  },
  {
   "cell_type": "code",
   "execution_count": 3,
   "outputs": [
    {
     "ename": "NameError",
     "evalue": "name 'image_path' is not defined",
     "output_type": "error",
     "traceback": [
      "\u001B[1;31m---------------------------------------------------------------------------\u001B[0m",
      "\u001B[1;31mNameError\u001B[0m                                 Traceback (most recent call last)",
      "Cell \u001B[1;32mIn[3], line 1\u001B[0m\n\u001B[1;32m----> 1\u001B[0m image \u001B[38;5;241m=\u001B[39m cv2\u001B[38;5;241m.\u001B[39mimread(\u001B[43mimage_path\u001B[49m)\n\u001B[0;32m      2\u001B[0m output \u001B[38;5;241m=\u001B[39m image\u001B[38;5;241m.\u001B[39mcopy()\n\u001B[0;32m      3\u001B[0m results \u001B[38;5;241m=\u001B[39m model(image)\n",
      "\u001B[1;31mNameError\u001B[0m: name 'image_path' is not defined"
     ]
    }
   ],
   "source": [
    "image = cv2.imread(image_path)\n",
    "output = image.copy()\n",
    "results = model(image)"
   ],
   "metadata": {
    "collapsed": false,
    "ExecuteTime": {
     "end_time": "2023-12-17T17:01:11.159330600Z",
     "start_time": "2023-12-17T17:01:10.998134400Z"
    }
   },
   "id": "eec976176b60385a"
  },
  {
   "cell_type": "code",
   "execution_count": 4,
   "outputs": [],
   "source": [
    "preprocessed_image = ip.image_preprocessing(image)\n",
    "cv2.imshow('Test',preprocessed_image)\n",
    "contours, rectangles, bounding_boxes, object_images = ip.get_objects_in_preprocessed_image(preprocessed_image,\n",
    "                                                                                             smaller_image_area=True)\n",
    "black_BG = ip.standardize_images(object_images,224)\n",
    "\n",
    "#cv2.imshow('test',black_BG[0])\n",
    "\n",
    "canvas_image = cv2.drawContours(preprocessed_image, bounding_boxes, -1, (0, 0, 255), 2)\n",
    "cv2.imshow('canvas_image',canvas_image)\n",
    "\n",
    "cv2.waitKey(0)\n",
    "cv2.destroyAllWindows() \n",
    "\n",
    "\n",
    "    "
   ],
   "metadata": {
    "collapsed": false,
    "ExecuteTime": {
     "end_time": "2023-12-17T17:02:33.935398400Z",
     "start_time": "2023-12-17T17:02:24.342302300Z"
    }
   },
   "id": "61ef17fc180f770a"
  },
  {
   "cell_type": "code",
   "execution_count": null,
   "outputs": [],
   "source": [],
   "metadata": {
    "collapsed": false
   },
   "id": "9fba66976e5b402c"
  }
 ],
 "metadata": {
  "kernelspec": {
   "display_name": "Python 3 (ipykernel)",
   "language": "python",
   "name": "python3"
  },
  "language_info": {
   "codemirror_mode": {
    "name": "ipython",
    "version": 3
   },
   "file_extension": ".py",
   "mimetype": "text/x-python",
   "name": "python",
   "nbconvert_exporter": "python",
   "pygments_lexer": "ipython3",
   "version": "3.11.5"
  }
 },
 "nbformat": 4,
 "nbformat_minor": 5
}
