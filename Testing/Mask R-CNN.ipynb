{
 "cells": [
  {
   "cell_type": "code",
   "execution_count": 38,
   "id": "initial_id",
   "metadata": {
    "collapsed": true,
    "ExecuteTime": {
     "end_time": "2023-12-17T16:10:45.330333900Z",
     "start_time": "2023-12-17T16:10:45.323779900Z"
    }
   },
   "outputs": [],
   "source": [
    "import tensorflow as tf\n",
    "import skimage\n",
    "from tensorflow.keras.preprocessing.image import ImageDataGenerator\n",
    "import os\n",
    "import sys\n",
    "import random\n",
    "import math\n",
    "import numpy as np\n",
    "import skimage.io\n",
    "import matplotlib\n",
    "import matplotlib.pyplot as plt\n",
    "\n",
    "from Testing.Mask_RCNN.mrcnn.config import Config\n",
    "from Testing.Mask_RCNN.mrcnn import model as modellib, utils\n",
    "from Testing.Mask_RCNN.mrcnn.utils import Dataset\n",
    "\n"
   ]
  },
  {
   "cell_type": "markdown",
   "source": [
    "### Clone Github"
   ],
   "metadata": {
    "collapsed": false
   },
   "id": "76a5f03ab0bdd473"
  },
  {
   "cell_type": "code",
   "execution_count": 40,
   "outputs": [
    {
     "name": "stderr",
     "output_type": "stream",
     "text": [
      "Cloning into 'Mask-RCNN-TF2'...\n"
     ]
    }
   ],
   "source": [
    "!git clone https://github.com/ahmedfgad/Mask-RCNN-TF2.git"
   ],
   "metadata": {
    "collapsed": false,
    "ExecuteTime": {
     "end_time": "2023-12-17T16:21:21.987716200Z",
     "start_time": "2023-12-17T16:20:51.348300700Z"
    }
   },
   "id": "c95ea55325ac6cd4"
  },
  {
   "cell_type": "markdown",
   "source": [
    "### Pathes and Variables"
   ],
   "metadata": {
    "collapsed": false
   },
   "id": "1249aa14f0ab27a4"
  },
  {
   "cell_type": "code",
   "execution_count": 36,
   "outputs": [],
   "source": [
    "labels = ['OverlapingObjects', 'Nut', 'Screw', 'Washer']\n",
    "\n",
    "# Passe das Verzeichnis an, in dem sich das Mask_RCNN-Repository befindet\n",
    "MASK_RCNN_PATH = 'Testing/Mask_RCNN/'\n",
    "sys.path.append(MASK_RCNN_PATH)\n",
    "\n",
    "# Passe die Pfade zu den Trainings-, Validierungs- und Testdaten an\n",
    "TRAIN_DIR = 'Testing/Mask_RCNN/images/ScrewData/train'\n",
    "VAL_DIR = 'Testing/Mask_RCNN/images/ScrewData/valid'\n",
    "TEST_DIR = 'Testing/Mask_RCNN/images/ScrewData/test'\n",
    "\n",
    "class CustomConfig(Config):\n",
    "    NAME = \"custom_dataset\"\n",
    "    IMAGES_PER_GPU = 2\n",
    "    NUM_CLASSES = 1 + len(labels)  # Anzahl der Klassen (hier anpassen)\n"
   ],
   "metadata": {
    "collapsed": false,
    "ExecuteTime": {
     "end_time": "2023-12-17T16:07:56.218455300Z",
     "start_time": "2023-12-17T16:07:56.212444300Z"
    }
   },
   "id": "6d25983bd6cabbb8"
  },
  {
   "cell_type": "code",
   "execution_count": 39,
   "outputs": [
    {
     "ename": "AttributeError",
     "evalue": "'Dataset' object has no attribute 'load_dataset'",
     "output_type": "error",
     "traceback": [
      "\u001B[1;31m---------------------------------------------------------------------------\u001B[0m",
      "\u001B[1;31mAttributeError\u001B[0m                            Traceback (most recent call last)",
      "Cell \u001B[1;32mIn[39], line 3\u001B[0m\n\u001B[0;32m      1\u001B[0m \u001B[38;5;66;03m# Lade die Trainings-, Validierungs- und Testbilder\u001B[39;00m\n\u001B[0;32m      2\u001B[0m train_dataset \u001B[38;5;241m=\u001B[39m Dataset()\n\u001B[1;32m----> 3\u001B[0m \u001B[43mtrain_dataset\u001B[49m\u001B[38;5;241;43m.\u001B[39;49m\u001B[43mload_dataset\u001B[49m(TRAIN_DIR, \u001B[38;5;124m\"\u001B[39m\u001B[38;5;124mtrain\u001B[39m\u001B[38;5;124m\"\u001B[39m)\n\u001B[0;32m      4\u001B[0m train_dataset\u001B[38;5;241m.\u001B[39mprepare()\n\u001B[0;32m      6\u001B[0m val_dataset \u001B[38;5;241m=\u001B[39m Dataset()\n",
      "\u001B[1;31mAttributeError\u001B[0m: 'Dataset' object has no attribute 'load_dataset'"
     ]
    }
   ],
   "source": [
    "# Lade die Trainings-, Validierungs- und Testbilder\n",
    "train_dataset = Dataset()\n",
    "train_dataset.load_dataset(TRAIN_DIR, \"train\")\n",
    "train_dataset.prepare()\n",
    "\n",
    "val_dataset = Dataset()\n",
    "val_dataset.load_dataset(VAL_DIR, \"val\")\n",
    "val_dataset.prepare()\n",
    "\n",
    "test_dataset = Dataset()\n",
    "test_dataset.load_dataset(TEST_DIR, \"test\")\n",
    "test_dataset.prepare()"
   ],
   "metadata": {
    "collapsed": false,
    "ExecuteTime": {
     "end_time": "2023-12-17T16:10:49.133706Z",
     "start_time": "2023-12-17T16:10:49.111464800Z"
    }
   },
   "id": "1f54855da848a9bb"
  },
  {
   "cell_type": "code",
   "execution_count": null,
   "outputs": [],
   "source": [
    "# Initialisiere das Mask R-CNN-Modell mit deiner Konfiguration\n",
    "model = modellib.MaskRCNN(mode=\"training\", config=CustomConfig(), model_dir='./')"
   ],
   "metadata": {
    "collapsed": false
   },
   "id": "e331bd2918cda6d9"
  },
  {
   "cell_type": "code",
   "execution_count": null,
   "outputs": [],
   "source": [
    "# Lade vortrainierte Gewichte, falls verfügbar\n",
    "model.load_weights('path/to/pretrained/weights', by_name=True)"
   ],
   "metadata": {
    "collapsed": false
   },
   "id": "14b1b21ec882023f"
  },
  {
   "cell_type": "code",
   "execution_count": null,
   "outputs": [],
   "source": [
    "# Trainiere das Modell\n",
    "model.train(train_dataset, val_dataset, learning_rate=config.LEARNING_RATE, epochs=10, layers='all')\n"
   ],
   "metadata": {
    "collapsed": false
   },
   "id": "6e24081502dbb4f4"
  },
  {
   "cell_type": "code",
   "execution_count": null,
   "outputs": [],
   "source": [],
   "metadata": {
    "collapsed": false
   },
   "id": "611f07c6834cc262"
  },
  {
   "cell_type": "code",
   "execution_count": null,
   "outputs": [],
   "source": [
    "# Speichere das trainierte Modell\n",
    "model_path = 'Testingmodel.h5'\n",
    "model.keras_model.save_weights(model_path)"
   ],
   "metadata": {
    "collapsed": false
   },
   "id": "8775365684ef51fd"
  },
  {
   "cell_type": "code",
   "execution_count": null,
   "outputs": [],
   "source": [],
   "metadata": {
    "collapsed": false
   },
   "id": "fd3318fa0d62f81b"
  },
  {
   "cell_type": "code",
   "execution_count": 9,
   "outputs": [],
   "source": [
    "# Verwendete Pfade für Trainings-, Validierungs- und Testdaten\n",
    "train_data_dir = 'Pfad/zum/Trainingsdaten-Ordner'\n",
    "validation_data_dir = 'Pfad/zum/Validierungsdaten-Ordner'\n",
    "test_data_dir = 'Pfad/zum/Testdaten-Ordner'\n",
    "\n",
    "# Daten-Generatoren für das Einlesen und die Vorverarbeitung der Bilder\n",
    "train_datagen = ImageDataGenerator(rescale=1./255)\n",
    "val_datagen = ImageDataGenerator(rescale=1./255)\n",
    "test_datagen = ImageDataGenerator(rescale=1./255)\n",
    "\n",
    "train_generator = train_datagen.flow_from_directory(\n",
    "        train_data_dir,\n",
    "        target_size=(img_height, img_width),\n",
    "        batch_size=batch_size,\n",
    "        class_mode='categorical')\n",
    "\n",
    "validation_generator = val_datagen.flow_from_directory(\n",
    "        validation_data_dir,\n",
    "        target_size=(img_height, img_width),\n",
    "        batch_size=batch_size,\n",
    "        class_mode='categorical')\n",
    "\n",
    "test_generator = test_datagen.flow_from_directory(\n",
    "        test_data_dir,\n",
    "        target_size=(img_height, img_width),\n",
    "        batch_size=batch_size,\n",
    "        class_mode='categorical')\n",
    "\n",
    "# Definiere das Mask R-CNN-Modell und füge Anpassungen hinzu\n",
    "model = ...  # Hier das Mask R-CNN-Modell definieren (z.B. von TensorFlow Model Garden)\n",
    "\n",
    "# Kompiliere das Modell mit Optimizer und Loss-Funktion\n",
    "model.compile(optimizer='adam', loss='categorical_crossentropy', metrics=['accuracy'])\n",
    "\n",
    "# Trainiere das Modell\n",
    "model.fit(train_generator, epochs=epochs, validation_data=validation_generator)\n",
    "\n",
    "# Evaluierung des Modells auf dem Testdatensatz\n",
    "test_loss, test_acc = model.evaluate(test_generator)\n",
    "print(f'Test Genauigkeit: {test_acc}')"
   ],
   "metadata": {
    "collapsed": false,
    "ExecuteTime": {
     "end_time": "2023-12-17T14:56:21.579188800Z",
     "start_time": "2023-12-17T14:56:21.572681300Z"
    }
   },
   "id": "6e00396c2b2305e4"
  },
  {
   "cell_type": "code",
   "execution_count": null,
   "outputs": [],
   "source": [],
   "metadata": {
    "collapsed": false
   },
   "id": "59008d5cdf32372c"
  }
 ],
 "metadata": {
  "kernelspec": {
   "display_name": "Python 3",
   "language": "python",
   "name": "python3"
  },
  "language_info": {
   "codemirror_mode": {
    "name": "ipython",
    "version": 2
   },
   "file_extension": ".py",
   "mimetype": "text/x-python",
   "name": "python",
   "nbconvert_exporter": "python",
   "pygments_lexer": "ipython2",
   "version": "2.7.6"
  }
 },
 "nbformat": 4,
 "nbformat_minor": 5
}
